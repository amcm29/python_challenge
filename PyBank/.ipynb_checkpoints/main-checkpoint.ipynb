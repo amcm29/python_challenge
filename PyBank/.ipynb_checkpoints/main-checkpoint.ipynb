{
 "cells": [
  {
   "cell_type": "code",
   "execution_count": 55,
   "metadata": {
    "scrolled": true
   },
   "outputs": [
    {
     "name": "stdout",
     "output_type": "stream",
     "text": [
      "CSV Header:['Date', 'Profit/Losses']\n",
      "Total Months:  86\n",
      "Total $     38382578\n",
      "Average Change: $  -2315.1176470588234\n",
      "1926159\n",
      "-2196167\n",
      "Greatest Increase in Profits: Feb-2012  1926159\n",
      "Greatest Decrease in Profits: Sep-2013  -2196167\n"
     ]
    }
   ],
   "source": [
    "#read csv file\n",
    "\n",
    "import csv\n",
    "import os\n",
    "\n",
    "csvpath = os.path.join('Resources','budget_data.csv')\n",
    "\n",
    "with open(csvpath, newline=\"\") as csvfile:\n",
    "    csvreader = csv.reader(csvfile, delimiter=\",\")\n",
    "    \n",
    "#Read the header row first\n",
    "    csv_header=next(csvreader)\n",
    "    #print(f\"CSV Header:{csv_header}\")\n",
    "    \n",
    "#Read each row of data after the header\n",
    "#     for row in csvreader:\n",
    "#         print(row)\n",
    "   #set up variables     \n",
    "    month_count=0\n",
    "    total_p_l=0\n",
    "    last_amount=0\n",
    "    change_list=[]\n",
    "    monthlist=[]\n",
    "        \n",
    "#Count number of months in data file\n",
    "#count total_profitloss\n",
    "    for row in csvreader:\n",
    "        month_count=month_count+1\n",
    "        total_p_l=int(row[1]) + total_p_l\n",
    "        \n",
    "        \n",
    "        if month_count==1:\n",
    "            last_amount=int(row[1])\n",
    "            #monthlist.append(row[0])\n",
    "        if month_count!=1:\n",
    "            change_list.append(int(row[1])-last_amount)\n",
    "            last_amount=int(row[1])\n",
    "            monthlist.append(row[0])\n",
    "        \n",
    "    avgchange=sum(change_list) / len(change_list)\n",
    "    maxchange=change_list.index(max(change_list))\n",
    "    minchange=change_list.index(min(change_list))\n",
    "     \n",
    "                    \n",
    "\n",
    "print(\"Total Months: \", month_count)\n",
    "print (\"Total $  \", \" \", total_p_l)\n",
    "print (\"Average Change: $ \", avgchange)\n",
    "print (max(change_list))\n",
    "print(min(change_list))\n",
    "print(\"Greatest Increase in Profits: \"+str(monthlist[maxchange])+\"  \"+str(change_list[maxchange]))\n",
    "print(\"Greatest Decrease in Profits: \"+str(monthlist[minchange])+\"  \"+str(change_list[minchange]))\n",
    "\n",
    "\n",
    "        \n",
    "    \n",
    "    \n",
    "    \n",
    "\n"
   ]
  },
  {
   "cell_type": "code",
   "execution_count": null,
   "metadata": {},
   "outputs": [],
   "source": []
  }
 ],
 "metadata": {
  "kernelspec": {
   "display_name": "Python 3",
   "language": "python",
   "name": "python3"
  },
  "language_info": {
   "codemirror_mode": {
    "name": "ipython",
    "version": 3
   },
   "file_extension": ".py",
   "mimetype": "text/x-python",
   "name": "python",
   "nbconvert_exporter": "python",
   "pygments_lexer": "ipython3",
   "version": "3.7.0"
  }
 },
 "nbformat": 4,
 "nbformat_minor": 2
}
