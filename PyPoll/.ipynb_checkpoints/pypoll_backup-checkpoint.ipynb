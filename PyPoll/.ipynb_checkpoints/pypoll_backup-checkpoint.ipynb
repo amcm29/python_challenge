{
 "cells": [
  {
   "cell_type": "code",
   "execution_count": null,
   "metadata": {},
   "outputs": [],
   "source": [
    "import csv\n",
    "import os\n",
    "\n",
    "#set csv path\n",
    "csvpath = os.path.join('Resources','election_data.csv')\n",
    "\n",
    "#read in csv file\n",
    "with open('election_data.csv') as csvfile:\n",
    "    csvreader = csv.reader(csvfile, delimiter=',')\n",
    "    \n",
    "    #Read the header row     \n",
    "    csv_header=next(csvreader)\n",
    "    print(f\"CSV Header:{csv_header}\")\n",
    "    \n",
    "    #Set up variables\n",
    "    sumOfVotes = 0\n",
    "    candidates = {}\n",
    "    print(sumOfVotes)\n",
    "    \n",
    "    \n",
    "\n",
    "    for row in csvreader:\n",
    "        sumOfVotes = sumOfVotes + 1\n",
    "        if not (candidates.has_key(candidate)):\n",
    "            candidates[candidate] = 0\n",
    "        else:\n",
    "            candidates[candidate] = candidates[candidate] + 1\n",
    "\n",
    "        print(\"Election Results\")\n",
    "        print(\"-------------------------\")\n",
    "        print(\"Total Votes: \"+ str(sumOfVotes))\n",
    "\n"
   ]
  },
  {
   "cell_type": "code",
   "execution_count": null,
   "metadata": {},
   "outputs": [],
   "source": []
  },
  {
   "cell_type": "code",
   "execution_count": null,
   "metadata": {},
   "outputs": [],
   "source": []
  }
 ],
 "metadata": {
  "kernelspec": {
   "display_name": "Python 3",
   "language": "python",
   "name": "python3"
  },
  "language_info": {
   "codemirror_mode": {
    "name": "ipython",
    "version": 3
   },
   "file_extension": ".py",
   "mimetype": "text/x-python",
   "name": "python",
   "nbconvert_exporter": "python",
   "pygments_lexer": "ipython3",
   "version": "3.7.0"
  }
 },
 "nbformat": 4,
 "nbformat_minor": 2
}
